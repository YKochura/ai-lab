{
  "nbformat": 4,
  "nbformat_minor": 0,
  "metadata": {
    "colab": {
      "name": "logistic_regression.ipynb",
      "provenance": []
    },
    "kernelspec": {
      "name": "python3",
      "display_name": "Python 3"
    },
    "language_info": {
      "name": "python"
    }
  },
  "cells": [
    {
      "cell_type": "markdown",
      "metadata": {
        "id": "mxImKw1UhQl7"
      },
      "source": [
        "<a href=\"https://colab.research.google.com/github/YKochura/ai-lab/blob/main/lab3/logistic_regression.ipynb\" target=\"_parent\"><img src=\"https://colab.research.google.com/assets/colab-badge.svg\" alt=\"Open In Colab\"/></a>"
      ]
    },
    {
      "cell_type": "markdown",
      "metadata": {
        "id": "q2XBnP5_Z0pD"
      },
      "source": [
        "**Логістична регресія** &mdash; статистичний регресійний метод, який застосовують для задач бінарної класифікації, тобто, коли модель має віднести вихідне значення (прогноз) до однієї з двох категорій: `0` або `1`.\n",
        "\n",
        "Наприклад, ми можемо за допомогою логістичної регресії передбачити результат складання студентом / студенткою екзамену з цього предмету `{здасть (1) / не здасть (0)}`, використовуючи інформацію про те, скільки часу було витрачено студентом / студенткою на проєкт, скільки лекцій відвідано, скільки практичних здано на оцінку > 7 балів, тощо. Або ж ми можемо за допомогою логістичної моделі класифікувати зображення на дві категорії, наприклад, `кіт (1)` або `собака (0)`.\n",
        ""
      ]
    },
    {
      "cell_type": "markdown",
      "metadata": {
        "id": "b_Lh31rnBI5b"
      },
      "source": [
        "# Модель логістичної регресії\n",
        "\n",
        "Логістичну регресію можна розглядати як одношарову нейронну мережу, яка складається з одного нелінійного нейрона.\n",
        "\n",
        "![](https://docs.google.com/uc?export=download&id=1Abx7cOwNEV0CcFHRVo4XqKMfhgBZeUdS)\n",
        "\n",
        "Метод логістичної регресії заснований на лiнiйнiй регресiї, оскільки використовується однаковий підхід: знаходження лінійної комбінації вхідних ознак (зважена сума) з урахуванням зміщення. Основна віднність між цими методами полягає у тому, що у логістичній регресії до зваженої суми вхідних ознак та зміщення, що фактично є вихідним значенням лінійної регресії, застосовується сигмоїдна функцiя активації, яка перетворює вихiд лiнiйної моделі у вихід логістичної регресії. Іншими словами, вихід (прогноз) логістичної регресії представляє собою дійсне значення, яке лежить у діапазоні вiд 0 до 1 ($\\hat y \\in [0, 1]$). Це значення можна iнтерпретувати як ймовiрнiсть приналежності вхідних даних до певного класу (0 або 1):\n",
        "\n",
        "$$p(y = 1 | z) = \\hat y = \\sigma(z) = g(z) = \\frac{1}{1 + \\exp{(-z)}} $$\n",
        "\n",
        "У випадку, коли нейрон є лінійним, тобто, коли відсутня нелінійна функція активації, тоді на виході отримуємо $\\hat y = z$, що є просто вихідним значення лінійної регресії.\n",
        "\n",
        "## Функції активації\n",
        "Нижче подано деякі загальновживані функції активації (усі нелінійні), які часто використовуються у нейронних мережах.\n",
        "\n",
        "![](https://docs.google.com/uc?export=download&id=1jNGnPUyKH7SoQton8bWAHhmKHkuLtLr4)"
      ]
    },
    {
      "cell_type": "markdown",
      "metadata": {
        "id": "sfQwoDlx-YHi"
      },
      "source": [
        "За характером навчальних даних, метод логістичної регресії відносить до контрольованого навчання (навчання з учителем). Тобто, для кожного прикладу з навчального набору даних заздалегідь підготовлена мітка (label), яка показує приналежніть цих прикладів певного класу.\n",
        "\n",
        "**Дано:**\n",
        "\n",
        "- Навчальний набір: $\\{(\\boldsymbol{X}^{(1)}, y^{(1)}), (\\boldsymbol{X}^{(2)}, y^{(2)}),..., (\\boldsymbol{X}^{(n)}, y^{(n)})\\}$\n",
        "\n",
        "  - де $\\boldsymbol{X}^{(i)}$ &mdash;  $i$-й навчальний приклад. Є $m$-вимірним вектором-стовпцем $\\boldsymbol{X}^{(i)} = (x^{(i)}_1, x^{(i)}_2, ..., x^{(i)}_m)$\n",
        "  - $n$ &mdash; загальна кількість навчальних прикладів\n",
        "  - $y^{(i)}$ &mdash; підготовлена мітка для $i$-го навчального прикладу (бінарна змінна), $y^{(i)} \\in \\{0,1\\}$\n",
        "\n",
        "Модель логістичної регресії можна інтерпретувати як дуже просту нейронну мережу, яка:\n",
        "\n",
        "- має вектор-рядок дійсних значень ваг $\\boldsymbol{W} = \\begin{bmatrix}\n",
        "w_1 & w_2 & \\cdots & w_m\n",
        "\\end{bmatrix}$\n",
        "- має дійсне значення зміщення $b$\n",
        "- використовує сигмоїду в якості активаційної функції"
      ]
    },
    {
      "cell_type": "markdown",
      "metadata": {
        "id": "5wtEFeieFmwI"
      },
      "source": [
        "# Навчання\n",
        "\n",
        "Ми можемо навчити модель, використовуючи градієнтний спуск. Фактично, **градієнтний спуск** або будь-який інший алгоритм оптимізації дозволяє знайти глобальний мінімум цільової функції (усередненої функції втрат на всьому навчальному наборі), якщо підбрано оптимальну швидкість навчання та виконано достатню кількість ітерацій навчання.\n",
        "\n",
        "Навчання моделі логістичної регресії має різні етапи. На початку (крок 0) ініціалізуються параметри моделі. Інші кроки повторюються протягом певної кількості епох (навчальних ітерацій).\n",
        "\n",
        "**Крок 0:** Ініціалізувати ваги та зсув (наприклад, випадковими значеннями з нормального розподілу)\n",
        "\n",
        "**Крок 1:** Обчислити лінійну комбінацію вхідних ознак та ваг, включаючи зсув.  Це можна зробити за один крок для всіх навчальних прикладів, використовуючи [векторизацію (vectorization)](https://www.geeksforgeeks.org/vectorization-in-python/) та  [трансляцію (broadcasting)](https://www.geeksforgeeks.org/python-broadcasting-with-numpy-arrays/)\n",
        "\n",
        "$$z = W \\cdot X + b$$\n",
        "\n",
        "де $\\cdot$ скалярний добуток (поелементний добуток), $W$ &mdash;  вектор-рядок ваг з формою $(1, m)$, $X$ &mdash; матриця форми $(m, n)$.\n",
        "\n",
        "**Крок 2:** Застосувати нелінійну функцію активації (сигмоїду), яка поверне дійсне значення у проміжку між 0 та 1:\n",
        "\n",
        "$$\\hat y  = \\frac{1}{1 + \\exp(-z)}$$\n",
        "\n",
        "**Крок 3:** Обчислити усереднену втрату на всьому навчальному наборі даних. Функцію, яка визначає усереднені втрати на всьому навчальному наборі даних, часто називають цільовою функцією або імпіричним ризиком. Основна задача оптимізаційного алгоритму &mdash;  мінімізувати у процесі навчання цільову функцію на стільки, на скільки це можливо, не втрачаючи при цьому здатності моделі узагальнювати на нових даних. Для задач бінарної класифікації використовують бінарну перехресну втрату ентропії:\n",
        "\n",
        "$$\\mathcal{J}(\\hat y,y)  = - \\frac{1}{n} \\sum_{i=1}^n \\Big[ y^{(i)} \\log(\\hat{y}^{(i)}) + (1 - y^{(i)}) \\log(1 - \\hat{y}^{(i)}) \\Big]$$\n",
        "\n",
        "**Крок 4:** Розрахувати градієнти цільвої функції відносно ваг та зсуву:\n",
        "\n",
        "$$\\boxed{\\begin{aligned}\n",
        "\\frac{\\partial \\mathcal{J}(\\hat y, y)}{\\partial \\hat y} &= \\frac{1}{n} \\big [-\\frac{y}{\\hat y} + \\frac{1- y}{1 - \\hat y} \\big ] \\\\[12pt]\n",
        "\\frac{\\partial \\mathcal{J}(\\hat y, y)}{\\partial z} &= \\frac{\\partial \\mathcal{J}(\\hat y, y)}{\\partial \\hat y} \\frac{\\partial \\hat y}{\\partial z} = \\frac{1}{n} (\\hat y - y)  \\\\[12pt]\n",
        "\\frac{\\partial \\mathcal{J}(\\hat y, y)}{\\partial W} &= \\frac{\\partial \\mathcal{J}(\\hat y, y)}{\\partial \\hat y} \\frac{\\partial \\hat y}{\\partial z} \\frac{\\partial z}{\\partial W} = \\frac{1}{n} X^\\intercal \\cdot (\\hat y - y) \\\\[12pt]\n",
        "\\frac{\\partial \\mathcal{J}(\\hat y, y)}{\\partial b} &=  \\frac{\\partial \\mathcal{J}(\\hat y, y)}{\\partial \\hat y} \\frac{\\partial \\hat y}{\\partial z} \\frac{\\partial z}{\\partial b} = \\frac{1}{n} (\\hat y - y)\n",
        "\\end{aligned}}$$\n",
        "\n",
        "**Крок 5:** Оновити ваги та зсув:\n",
        "\n",
        "$$\\boxed{\\begin{aligned}\n",
        "W &= W - \\alpha \\frac{\\partial \\mathcal{L}(\\hat y, y)}{\\partial W} \\\\[12pt]\n",
        "b &= b - \\alpha \\frac{\\partial \\mathcal{L}(\\hat y, y)}{\\partial b}\n",
        "\\end{aligned}}$$\n",
        "\n",
        "де $\\alpha$ &mdash; швидкість навчання (крок навчання)."
      ]
    },
    {
      "cell_type": "markdown",
      "metadata": {
        "id": "WU31wxOL_iBb"
      },
      "source": [
        "# Імпортупвання бібліотек"
      ]
    },
    {
      "cell_type": "code",
      "metadata": {
        "id": "19xicNjUYyKR"
      },
      "source": [
        "import numpy as np # numerical python library for calculus\n",
        "from PIL import Image # image processing in python with Pillow\n",
        "import requests # library for obtaining the requested data from the specific server\n",
        "from matplotlib import pyplot as plt # library for creating static, animated, and interactive visualizations in Python\n",
        "from sklearn import datasets\n",
        "from sklearn.model_selection import train_test_split\n",
        "\n",
        "np.random.seed(1) # makes the random numbers predictable"
      ],
      "execution_count": 56,
      "outputs": []
    },
    {
      "cell_type": "markdown",
      "source": [
        "# Завантажєння датасету та [breast_cancer](https://scikit-learn.org/0.21/modules/generated/sklearn.datasets.load_breast_cancer.html) та перегляд повного опису набору"
      ],
      "metadata": {
        "id": "ndsLjCZEAyeO"
      }
    },
    {
      "cell_type": "code",
      "source": [
        "df = datasets.load_breast_cancer()\n",
        "print(df.DESCR)"
      ],
      "metadata": {
        "colab": {
          "base_uri": "https://localhost:8080/"
        },
        "id": "FQBdRiq--0Pe",
        "outputId": "691dc4b8-9313-414f-b817-4ff6677123aa"
      },
      "execution_count": 58,
      "outputs": [
        {
          "output_type": "stream",
          "name": "stdout",
          "text": [
            ".. _breast_cancer_dataset:\n",
            "\n",
            "Breast cancer wisconsin (diagnostic) dataset\n",
            "--------------------------------------------\n",
            "\n",
            "**Data Set Characteristics:**\n",
            "\n",
            "    :Number of Instances: 569\n",
            "\n",
            "    :Number of Attributes: 30 numeric, predictive attributes and the class\n",
            "\n",
            "    :Attribute Information:\n",
            "        - radius (mean of distances from center to points on the perimeter)\n",
            "        - texture (standard deviation of gray-scale values)\n",
            "        - perimeter\n",
            "        - area\n",
            "        - smoothness (local variation in radius lengths)\n",
            "        - compactness (perimeter^2 / area - 1.0)\n",
            "        - concavity (severity of concave portions of the contour)\n",
            "        - concave points (number of concave portions of the contour)\n",
            "        - symmetry\n",
            "        - fractal dimension (\"coastline approximation\" - 1)\n",
            "\n",
            "        The mean, standard error, and \"worst\" or largest (mean of the three\n",
            "        worst/largest values) of these features were computed for each image,\n",
            "        resulting in 30 features.  For instance, field 0 is Mean Radius, field\n",
            "        10 is Radius SE, field 20 is Worst Radius.\n",
            "\n",
            "        - class:\n",
            "                - WDBC-Malignant\n",
            "                - WDBC-Benign\n",
            "\n",
            "    :Summary Statistics:\n",
            "\n",
            "    ===================================== ====== ======\n",
            "                                           Min    Max\n",
            "    ===================================== ====== ======\n",
            "    radius (mean):                        6.981  28.11\n",
            "    texture (mean):                       9.71   39.28\n",
            "    perimeter (mean):                     43.79  188.5\n",
            "    area (mean):                          143.5  2501.0\n",
            "    smoothness (mean):                    0.053  0.163\n",
            "    compactness (mean):                   0.019  0.345\n",
            "    concavity (mean):                     0.0    0.427\n",
            "    concave points (mean):                0.0    0.201\n",
            "    symmetry (mean):                      0.106  0.304\n",
            "    fractal dimension (mean):             0.05   0.097\n",
            "    radius (standard error):              0.112  2.873\n",
            "    texture (standard error):             0.36   4.885\n",
            "    perimeter (standard error):           0.757  21.98\n",
            "    area (standard error):                6.802  542.2\n",
            "    smoothness (standard error):          0.002  0.031\n",
            "    compactness (standard error):         0.002  0.135\n",
            "    concavity (standard error):           0.0    0.396\n",
            "    concave points (standard error):      0.0    0.053\n",
            "    symmetry (standard error):            0.008  0.079\n",
            "    fractal dimension (standard error):   0.001  0.03\n",
            "    radius (worst):                       7.93   36.04\n",
            "    texture (worst):                      12.02  49.54\n",
            "    perimeter (worst):                    50.41  251.2\n",
            "    area (worst):                         185.2  4254.0\n",
            "    smoothness (worst):                   0.071  0.223\n",
            "    compactness (worst):                  0.027  1.058\n",
            "    concavity (worst):                    0.0    1.252\n",
            "    concave points (worst):               0.0    0.291\n",
            "    symmetry (worst):                     0.156  0.664\n",
            "    fractal dimension (worst):            0.055  0.208\n",
            "    ===================================== ====== ======\n",
            "\n",
            "    :Missing Attribute Values: None\n",
            "\n",
            "    :Class Distribution: 212 - Malignant, 357 - Benign\n",
            "\n",
            "    :Creator:  Dr. William H. Wolberg, W. Nick Street, Olvi L. Mangasarian\n",
            "\n",
            "    :Donor: Nick Street\n",
            "\n",
            "    :Date: November, 1995\n",
            "\n",
            "This is a copy of UCI ML Breast Cancer Wisconsin (Diagnostic) datasets.\n",
            "https://goo.gl/U2Uwz2\n",
            "\n",
            "Features are computed from a digitized image of a fine needle\n",
            "aspirate (FNA) of a breast mass.  They describe\n",
            "characteristics of the cell nuclei present in the image.\n",
            "\n",
            "Separating plane described above was obtained using\n",
            "Multisurface Method-Tree (MSM-T) [K. P. Bennett, \"Decision Tree\n",
            "Construction Via Linear Programming.\" Proceedings of the 4th\n",
            "Midwest Artificial Intelligence and Cognitive Science Society,\n",
            "pp. 97-101, 1992], a classification method which uses linear\n",
            "programming to construct a decision tree.  Relevant features\n",
            "were selected using an exhaustive search in the space of 1-4\n",
            "features and 1-3 separating planes.\n",
            "\n",
            "The actual linear program used to obtain the separating plane\n",
            "in the 3-dimensional space is that described in:\n",
            "[K. P. Bennett and O. L. Mangasarian: \"Robust Linear\n",
            "Programming Discrimination of Two Linearly Inseparable Sets\",\n",
            "Optimization Methods and Software 1, 1992, 23-34].\n",
            "\n",
            "This database is also available through the UW CS ftp server:\n",
            "\n",
            "ftp ftp.cs.wisc.edu\n",
            "cd math-prog/cpo-dataset/machine-learn/WDBC/\n",
            "\n",
            ".. topic:: References\n",
            "\n",
            "   - W.N. Street, W.H. Wolberg and O.L. Mangasarian. Nuclear feature extraction \n",
            "     for breast tumor diagnosis. IS&T/SPIE 1993 International Symposium on \n",
            "     Electronic Imaging: Science and Technology, volume 1905, pages 861-870,\n",
            "     San Jose, CA, 1993.\n",
            "   - O.L. Mangasarian, W.N. Street and W.H. Wolberg. Breast cancer diagnosis and \n",
            "     prognosis via linear programming. Operations Research, 43(4), pages 570-577, \n",
            "     July-August 1995.\n",
            "   - W.H. Wolberg, W.N. Street, and O.L. Mangasarian. Machine learning techniques\n",
            "     to diagnose breast cancer from fine-needle aspirates. Cancer Letters 77 (1994) \n",
            "     163-171.\n"
          ]
        }
      ]
    },
    {
      "cell_type": "markdown",
      "source": [
        "# Ознаки"
      ],
      "metadata": {
        "id": "Q1ybT_YvBIa-"
      }
    },
    {
      "cell_type": "code",
      "source": [
        "list(df.feature_names)"
      ],
      "metadata": {
        "colab": {
          "base_uri": "https://localhost:8080/"
        },
        "id": "s6GmKVuH_7_q",
        "outputId": "2f04ed20-110c-47c6-b605-1b07bcb7c4b7"
      },
      "execution_count": 62,
      "outputs": [
        {
          "output_type": "execute_result",
          "data": {
            "text/plain": [
              "['mean radius',\n",
              " 'mean texture',\n",
              " 'mean perimeter',\n",
              " 'mean area',\n",
              " 'mean smoothness',\n",
              " 'mean compactness',\n",
              " 'mean concavity',\n",
              " 'mean concave points',\n",
              " 'mean symmetry',\n",
              " 'mean fractal dimension',\n",
              " 'radius error',\n",
              " 'texture error',\n",
              " 'perimeter error',\n",
              " 'area error',\n",
              " 'smoothness error',\n",
              " 'compactness error',\n",
              " 'concavity error',\n",
              " 'concave points error',\n",
              " 'symmetry error',\n",
              " 'fractal dimension error',\n",
              " 'worst radius',\n",
              " 'worst texture',\n",
              " 'worst perimeter',\n",
              " 'worst area',\n",
              " 'worst smoothness',\n",
              " 'worst compactness',\n",
              " 'worst concavity',\n",
              " 'worst concave points',\n",
              " 'worst symmetry',\n",
              " 'worst fractal dimension']"
            ]
          },
          "metadata": {},
          "execution_count": 62
        }
      ]
    },
    {
      "cell_type": "markdown",
      "source": [
        "# Мітки"
      ],
      "metadata": {
        "id": "FTnuRJjrBRcF"
      }
    },
    {
      "cell_type": "code",
      "source": [
        "list(df.target_names)"
      ],
      "metadata": {
        "colab": {
          "base_uri": "https://localhost:8080/"
        },
        "id": "dFrpydLk_QBI",
        "outputId": "8b203b3f-7d2f-48c1-82fa-43b7e498bf80"
      },
      "execution_count": 60,
      "outputs": [
        {
          "output_type": "execute_result",
          "data": {
            "text/plain": [
              "['malignant', 'benign']"
            ]
          },
          "metadata": {},
          "execution_count": 60
        }
      ]
    },
    {
      "cell_type": "code",
      "source": [
        "classes = {0 : 'malignant', 1 : 'benign'}"
      ],
      "metadata": {
        "id": "EcDwAoYsAJsP"
      },
      "execution_count": 63,
      "outputs": []
    },
    {
      "cell_type": "markdown",
      "source": [
        "### Перегляд міток для кількох прикладів з набору"
      ],
      "metadata": {
        "id": "RKyifp88BZrd"
      }
    },
    {
      "cell_type": "code",
      "source": [
        "df.target[[0, 10, 90]]"
      ],
      "metadata": {
        "colab": {
          "base_uri": "https://localhost:8080/"
        },
        "id": "MIK5xgKSAZqd",
        "outputId": "b5b45d83-9099-4f13-fc5b-bc51e3a53276"
      },
      "execution_count": 66,
      "outputs": [
        {
          "output_type": "execute_result",
          "data": {
            "text/plain": [
              "array([0, 0, 1])"
            ]
          },
          "metadata": {},
          "execution_count": 66
        }
      ]
    },
    {
      "cell_type": "code",
      "source": [
        "[classes[i] for i in df.target[[0, 10, 90]]]"
      ],
      "metadata": {
        "colab": {
          "base_uri": "https://localhost:8080/"
        },
        "id": "BhymhteOAj6k",
        "outputId": "e69254d5-89e1-4d4b-c6eb-fdc079e2f1d8"
      },
      "execution_count": 67,
      "outputs": [
        {
          "output_type": "execute_result",
          "data": {
            "text/plain": [
              "['malignant', 'malignant', 'benign']"
            ]
          },
          "metadata": {},
          "execution_count": 67
        }
      ]
    },
    {
      "cell_type": "code",
      "source": [
        "X, y = df.data, df.target"
      ],
      "metadata": {
        "id": "J_MDOXiICOJe"
      },
      "execution_count": 68,
      "outputs": []
    },
    {
      "cell_type": "code",
      "source": [
        "# Split the data into a training and test set\n",
        "X_train, X_test, y_train, y_test = train_test_split(X, y, test_size=0.2, random_state=1)\n",
        "\n",
        "print(f'Shape X_train: {X_train.shape}')\n",
        "print(f'Shape y_train: {y_train.shape}')\n",
        "print(f'Shape X_test: {X_test.shape}')\n",
        "print(f'Shape y_test: {y_test.shape}')\n"
      ],
      "metadata": {
        "id": "z-AiQ3kHCJ14",
        "outputId": "c787fb7e-8771-477a-a797-6ccde232c0a4",
        "colab": {
          "base_uri": "https://localhost:8080/"
        }
      },
      "execution_count": 69,
      "outputs": [
        {
          "output_type": "stream",
          "name": "stdout",
          "text": [
            "Shape X_train: (455, 30)\n",
            "Shape y_train: (455,)\n",
            "Shape X_test: (114, 30)\n",
            "Shape y_test: (114,)\n"
          ]
        }
      ]
    },
    {
      "cell_type": "code",
      "source": [
        "n_samples, n_features = X_train.shape"
      ],
      "metadata": {
        "id": "jefqppjEClE3"
      },
      "execution_count": 70,
      "outputs": []
    },
    {
      "cell_type": "markdown",
      "metadata": {
        "id": "ZPLwu0rWaCeJ"
      },
      "source": [
        "---\n",
        "# Завдання\n",
        "\n",
        "Розглянемо задачу бінарної класифікації зображень: кіт (1) або собака (0). Оскільки на нашому зображенні, яке ми будемо використовувати у якості навчального прикладу для логістичної регресії знаходиться собака, створимо відповідну мітку:"
      ]
    },
    {
      "cell_type": "markdown",
      "metadata": {
        "id": "Qpq48noEKJgY"
      },
      "source": [
        "### Крок 0: Ініціалізувати ваги та зсув"
      ]
    },
    {
      "cell_type": "code",
      "metadata": {
        "id": "bfkqaTCL27hF"
      },
      "source": [
        "# TODO\n",
        "def parameters_inititalization(m):\n",
        "  \"\"\"\n",
        "  Ця функція ініціалізує вектор-рядок випадкових дійсних значень ваг форми (1, m), отриманих з нормального розподілу та зсув (довільне дійсне значення)\n",
        "\n",
        "  Параметри:\n",
        "  m -- кількість вхідних ознак для кожного навчального прикладу\n",
        "\n",
        "  Повертає:\n",
        "  W -- вектор-рядок ваг форми (1, m)\n",
        "  b -- зсув (скаляр)\n",
        "  \"\"\"\n",
        "\n",
        "  # BEGIN_YOUR_CODE\n",
        "  raise Exception(\"Not implemented yet\")\n",
        "  # END_YOUR_CODE"
      ],
      "execution_count": 87,
      "outputs": []
    },
    {
      "cell_type": "code",
      "metadata": {
        "id": "Cjoi0Pi0eIl9"
      },
      "source": [
        "W, b = parameters_inititalization(n_features)"
      ],
      "execution_count": 88,
      "outputs": []
    },
    {
      "cell_type": "code",
      "metadata": {
        "id": "Z_nNfaRGdLGO",
        "colab": {
          "base_uri": "https://localhost:8080/"
        },
        "outputId": "672221e1-2dfa-478f-b946-066ad0a0e928"
      },
      "source": [
        "W"
      ],
      "execution_count": 89,
      "outputs": [
        {
          "output_type": "execute_result",
          "data": {
            "text/plain": [
              "array([-0.69166075, -0.39675353, -0.6871727 , -0.84520564, -0.67124613,\n",
              "       -0.0126646 , -1.11731035,  0.2344157 ,  1.65980218,  0.74204416,\n",
              "       -0.19183555, -0.88762896, -0.74715829,  1.6924546 ,  0.05080775,\n",
              "       -0.63699565,  0.19091548,  2.10025514,  0.12015895,  0.61720311,\n",
              "        0.30017032, -0.35224985, -1.1425182 , -0.34934272, -0.20889423,\n",
              "        0.58662319,  0.83898341,  0.93110208,  0.28558733,  0.88514116])"
            ]
          },
          "metadata": {},
          "execution_count": 89
        }
      ]
    },
    {
      "cell_type": "code",
      "metadata": {
        "id": "AVUfQgU3dRoj",
        "colab": {
          "base_uri": "https://localhost:8080/"
        },
        "outputId": "975520bb-3427-4af4-f56a-f9e431ecf9ac"
      },
      "source": [
        "W.shape"
      ],
      "execution_count": 90,
      "outputs": [
        {
          "output_type": "execute_result",
          "data": {
            "text/plain": [
              "(30,)"
            ]
          },
          "metadata": {},
          "execution_count": 90
        }
      ]
    },
    {
      "cell_type": "code",
      "metadata": {
        "colab": {
          "base_uri": "https://localhost:8080/"
        },
        "id": "PGyt_i05dT_r",
        "outputId": "66cfe2d5-2197-4aea-83d7-77b7e7da434d"
      },
      "source": [
        "b"
      ],
      "execution_count": 91,
      "outputs": [
        {
          "output_type": "execute_result",
          "data": {
            "text/plain": [
              "0.0"
            ]
          },
          "metadata": {},
          "execution_count": 91
        }
      ]
    },
    {
      "cell_type": "markdown",
      "metadata": {
        "id": "SMLPcw7gNZ1d"
      },
      "source": [
        "## Крок 1 та 2\n",
        "\n",
        "### Крок 1: Обчислити лінійну комбінацію вхідних ознак та ваг, включаючи зсув\n",
        "\n",
        "### Крок 2: Застосувати нелінійну функцію активації (сигмоїду) до отриманого значення з крок 1"
      ]
    },
    {
      "cell_type": "code",
      "metadata": {
        "id": "sHg5Sh8bdV3J"
      },
      "source": [
        "# TODO\n",
        "def forwardPropagate(X, W, b):\n",
        "  \"\"\"\n",
        "  Ця функція обчислює лінійну комбінацію вхідних ознак та ваг, включаючи зсув і знаходить активаційне значення сигмоїди\n",
        "\n",
        "  Параметри:\n",
        "  X -- вхідний вектор стовпець (у нашому випадку - це чорнобіле зображення собаки) форми (n_samples, n_features)\n",
        "  W -- вектор-рядок ваг моделі форми (1, n_features)\n",
        "  b -- зсув моделі (скаляр)\n",
        "\n",
        "  Повертає:\n",
        "  z -- загальна зважена сума вхідних ознак, включаючи зсув\n",
        "  y_hat -- активаційне значення сигмоїди\n",
        "  \"\"\"\n",
        "\n",
        "  # BEGIN_YOUR_CODE\n",
        "  raise Exception(\"Not implemented yet\")\n",
        "  # END_YOUR_CODE"
      ],
      "execution_count": 98,
      "outputs": []
    },
    {
      "cell_type": "code",
      "metadata": {
        "id": "94IMy1_2dfuQ",
        "colab": {
          "base_uri": "https://localhost:8080/"
        },
        "outputId": "dbf05b7a-18c2-4849-a609-aa4905bd8136"
      },
      "source": [
        "z, y_hat = forwardPropagate(X_train, W, b)"
      ],
      "execution_count": 99,
      "outputs": [
        {
          "output_type": "stream",
          "name": "stderr",
          "text": [
            "<ipython-input-98-3fd632c72394>:18: RuntimeWarning: overflow encountered in exp\n",
            "  y_hat = 1 / (1 + np.exp(-z))\n"
          ]
        }
      ]
    },
    {
      "cell_type": "code",
      "metadata": {
        "id": "JF67K5RJiEux",
        "colab": {
          "base_uri": "https://localhost:8080/"
        },
        "outputId": "cbbbcab8-24aa-447c-eb3a-b1075e9ed243"
      },
      "source": [
        "z"
      ],
      "execution_count": 100,
      "outputs": [
        {
          "output_type": "execute_result",
          "data": {
            "text/plain": [
              "array([-1489.2706883 , -1776.23793373,  -417.29910191,  -714.51295065,\n",
              "        -700.38701354, -1003.22551612,  -880.03161094, -1799.29389153,\n",
              "       -1894.31587838,  -696.29273521,  -803.01097395, -2551.94273275,\n",
              "       -1125.55108622, -1265.12571985, -1956.59999823, -1749.95594395,\n",
              "        -743.03255714, -1121.22976625,  -734.22706256, -1657.27959155,\n",
              "        -569.97230356, -1208.58730958, -1431.61110213, -1139.00080309,\n",
              "        -637.81369434, -1061.11549829, -1087.70682492, -1654.11964578,\n",
              "        -690.10554874, -1138.74058509, -1036.97622052, -1131.39387456,\n",
              "        -532.55795812,  -693.02615825,  -667.10005223, -1249.91920729,\n",
              "        -729.7619246 ,  -605.22469396,  -974.04972691,  -710.93917935,\n",
              "       -1034.82900795,  -832.50679995,  -979.37481564,  -824.08082091,\n",
              "        -878.99295349,  -480.17304314,  -912.06692861,  -788.50706563,\n",
              "        -669.3653252 , -1171.94379298,  -643.95249634,  -777.64070768,\n",
              "       -1631.64361513, -1770.8038963 , -1273.30755139,  -790.40022035,\n",
              "        -613.80046185,  -645.93828322,  -790.60082992,  -976.00139172,\n",
              "        -706.12599865,  -648.44842861,  -449.75528309,  -748.46077071,\n",
              "       -1070.48598183,  -273.7279769 ,  -625.57875173,  -538.92935464,\n",
              "        -881.08410765,  -411.65642243, -1164.25938045, -2044.70827916,\n",
              "       -1494.63743303,  -833.91983524, -1573.95437361,  -745.9872099 ,\n",
              "        -817.7302245 ,  -753.60065501,  -889.34460737, -1286.59918821,\n",
              "       -1954.26877205,  -654.91665326,  -360.85144293,  -923.80244961,\n",
              "       -1253.03694321,  -865.21620724, -1200.59394261,  -822.17195074,\n",
              "        -980.870777  ,  -624.43780255, -1844.25977618, -1305.55470286,\n",
              "        -708.61485095, -1009.84280273,  -637.74898979, -1390.59756205,\n",
              "        -888.30605854,  -892.98070241,  -587.02150911,  -669.31877685,\n",
              "       -1936.09321945,  -780.55072804,  -736.55426669,  -744.53303271,\n",
              "        -525.84385246,  -666.12561263,  -712.20167894,  -485.82916814,\n",
              "       -1831.14258331,  -747.61987879, -2173.90901603,  -364.79631691,\n",
              "        -745.60445629, -2281.19715112, -2443.44696431, -1132.65821099,\n",
              "       -1068.19485245,  -384.61440974,  -609.95475411, -2378.25503959,\n",
              "       -1021.9159889 ,  -905.89371356, -1536.50488422, -1746.48738208,\n",
              "       -1037.30358453,  -944.61851438,  -663.14269491,  -858.71007384,\n",
              "        -501.52176385,  -792.99440589,  -484.08028834, -1108.58914843,\n",
              "        -845.52221504,  -860.11689163, -1946.25613657, -1643.13169691,\n",
              "       -2674.83315779, -1975.9057923 ,  -853.50465634, -1529.53138035,\n",
              "        -970.53433585,  -856.56862808,  -945.48406773,  -870.1068277 ,\n",
              "        -968.64818397,  -778.67320717,  -862.0833363 ,  -605.24009484,\n",
              "       -1072.99080294,  -955.27873091,  -917.6503942 ,  -792.69444169,\n",
              "       -1519.9991097 ,  -712.37614861,  -340.69735443,  -483.0657865 ,\n",
              "        -957.66960179, -1270.02855382,  -901.1113001 ,  -418.88339695,\n",
              "       -1833.15112706,  -914.92807263,  -967.42412944,  -559.2674928 ,\n",
              "        -843.55839837, -1191.65214367,  -550.54282559,  -610.25056527,\n",
              "        -725.0644768 ,  -945.76200327,  -959.99758488,  -971.50648674,\n",
              "        -878.80830449,  -921.82352744,  -944.29959591, -2438.1711597 ,\n",
              "        -330.00297055, -2184.44917268, -1844.41696932, -1603.40502952,\n",
              "        -879.63258   ,  -911.57268455, -2622.19804888, -1450.45450558,\n",
              "       -1371.49111769,  -602.68047308,  -587.86961979, -1574.91089423,\n",
              "        -761.54280923,  -780.90536752, -1235.85475118,  -729.6870144 ,\n",
              "       -1325.66849537, -1761.51074504,  -485.03365975,  -674.23205319,\n",
              "        -671.81448182, -2584.27609718,  -544.44016998,  -715.61320152,\n",
              "        -767.56709845, -2054.68679276,  -992.49889578,  -739.05274169,\n",
              "       -1985.56506546,  -655.6313196 , -1194.24458226,  -383.75812468,\n",
              "        -665.97289397, -1482.45161369,  -833.41871289,  -510.40403462,\n",
              "       -1747.95043276, -1896.22505927,  -791.81462459,  -949.98484887,\n",
              "        -895.0944454 , -1914.20925859, -1431.16140444, -1044.25658979,\n",
              "        -597.70111159, -1902.74634129,  -842.97797165,  -643.30088348,\n",
              "        -616.36424934,  -708.65808483,  -620.23503001,  -886.64129984,\n",
              "        -653.28380922,  -532.21933203,  -927.18921673,  -694.63867417,\n",
              "       -2185.45351402,  -518.65594004, -1023.83040506,  -795.10324806,\n",
              "        -664.5850769 ,  -719.49138686,  -863.14728736, -1377.46531717,\n",
              "       -1002.64324458,  -658.08044141, -1117.1845601 , -1223.49085812,\n",
              "        -517.73675386, -1259.33152725,  -788.53806648,  -498.78993217,\n",
              "        -648.07675751, -1370.74835761,  -745.46761868, -1909.66717624,\n",
              "        -669.8367801 ,  -724.5843175 , -1005.93767701,  -913.94421829,\n",
              "       -1801.78269361, -1342.25719313,  -814.01267163,  -423.54571815,\n",
              "       -1022.65707731,  -789.83971696, -1936.18569191,  -922.93417858,\n",
              "        -466.40718865, -1807.05739724, -1734.44195525, -1615.86940087,\n",
              "        -545.0589291 , -1307.85933357, -1235.3669396 , -2044.73947439,\n",
              "        -714.3627661 ,  -571.60645652,  -446.52085592,  -588.07195935,\n",
              "        -443.69465369,  -762.53839283,  -810.22456401, -1098.29958153,\n",
              "        -638.58057364, -1669.61827801, -1129.97093605, -1128.74336754,\n",
              "       -1626.18171598,  -524.3880876 ,  -404.13495615, -2483.11457521,\n",
              "        -481.1020946 ,  -432.44287718,  -623.39874445,  -461.3207532 ,\n",
              "        -646.23232477,  -600.56400529,  -527.09214224, -1856.59845024,\n",
              "       -1570.43318959, -1420.01574673,  -811.93385729,  -657.06253575,\n",
              "       -1001.53358126, -2031.06915724,  -487.89345993,  -408.469735  ,\n",
              "        -766.68212937,  -899.41042195, -1255.1418317 ,  -500.69743508,\n",
              "        -724.2435814 ,  -717.60877496, -1616.05489514,  -396.29652543,\n",
              "       -1139.42593914,  -496.05089356,  -698.79390807, -1030.40773404,\n",
              "       -1775.18621672, -1395.12065611, -2979.3610026 , -1265.5580329 ,\n",
              "        -715.10941788,  -592.53115151,  -507.03017461,  -889.02057189,\n",
              "        -726.13531032, -1101.51016035, -1061.43835318,  -517.36068244,\n",
              "        -681.1646697 ,  -476.90981271, -1108.61499979,  -816.63669487,\n",
              "        -475.14839377,  -829.74873743,  -981.33483191, -2322.96159376,\n",
              "        -447.92195737,  -887.78617354,  -392.56950437, -1726.15624906,\n",
              "        -630.72989405,  -455.21539995, -1248.28059295,  -558.1104137 ,\n",
              "        -681.87653247, -1784.83977958,  -865.91932244, -1055.72793285,\n",
              "        -714.36927954,  -721.76351045,  -596.54316439,  -487.2611617 ,\n",
              "        -995.47697069, -1626.703158  ,  -822.6507682 ,  -676.15636875,\n",
              "        -607.67654885, -1228.5493317 ,  -749.91074153, -1461.6793752 ,\n",
              "       -1175.76905349, -1059.99327935,  -904.48858766,  -802.00134748,\n",
              "        -809.88930494, -1745.31272055,  -894.59096267,  -659.21300046,\n",
              "        -692.29805801, -1365.25998545, -3141.78675155, -1404.88007793,\n",
              "        -836.64948177, -1205.00124237,  -638.24031438, -2164.28708149,\n",
              "       -1816.43699919,  -623.64484063,  -368.42580713,  -689.30952185,\n",
              "        -458.62385519, -1732.17917867,  -943.62049103,  -755.66691009,\n",
              "        -645.85181671,  -876.76935727,  -872.82349017,  -609.76539462,\n",
              "       -1665.40244684, -1465.13443348,  -817.97487313, -1568.14548174,\n",
              "        -554.67220024,  -759.88098253,  -590.47811853,  -664.57455808,\n",
              "        -571.66862241, -1582.15629844, -1798.50218145,  -732.57930472,\n",
              "        -792.2484699 ,  -609.51682772,  -891.47598451,  -964.48331509,\n",
              "       -1094.68309856, -1733.68716568,  -687.05666026,  -756.39062769,\n",
              "       -1371.55389658,  -915.41772948,  -882.04708365, -1069.90917515,\n",
              "        -845.87965214,  -647.54323844,  -786.22900156, -1055.46300081,\n",
              "        -937.36588564,  -779.8612649 ,  -628.43852438,  -839.84958999,\n",
              "        -795.19203501,  -919.77099674,  -391.50666427,  -678.28278008,\n",
              "        -729.8296468 , -1472.9371819 , -1119.37467189,  -705.9175358 ,\n",
              "       -1002.28048072,  -650.29725468,  -592.23798658,  -700.39180753,\n",
              "        -929.64359259, -2103.54923249, -1237.22820935,  -980.89682409,\n",
              "        -645.07942212, -2464.83779142,  -917.10901389,  -629.6175038 ,\n",
              "        -767.02667727, -1835.26052389, -1428.8368588 ,  -903.21018807,\n",
              "       -1854.59988283,  -622.36934981,  -815.76433195,  -650.82211655,\n",
              "        -533.31747795, -1198.7332501 , -1745.71806611,  -579.27951332,\n",
              "       -1535.76209425,  -922.84654905,  -785.63727365])"
            ]
          },
          "metadata": {},
          "execution_count": 100
        }
      ]
    },
    {
      "cell_type": "code",
      "metadata": {
        "id": "8urwc6qKiFQQ",
        "colab": {
          "base_uri": "https://localhost:8080/"
        },
        "outputId": "ef6fe56c-964a-4d7b-cd6b-0c4506b7ce2f"
      },
      "source": [
        "y_hat"
      ],
      "execution_count": 101,
      "outputs": [
        {
          "output_type": "execute_result",
          "data": {
            "text/plain": [
              "array([0.00000000e+000, 0.00000000e+000, 5.87899020e-182, 0.00000000e+000,\n",
              "       6.69552785e-305, 0.00000000e+000, 0.00000000e+000, 0.00000000e+000,\n",
              "       0.00000000e+000, 4.01705066e-303, 0.00000000e+000, 0.00000000e+000,\n",
              "       0.00000000e+000, 0.00000000e+000, 0.00000000e+000, 0.00000000e+000,\n",
              "       0.00000000e+000, 0.00000000e+000, 0.00000000e+000, 0.00000000e+000,\n",
              "       2.91188171e-248, 0.00000000e+000, 0.00000000e+000, 0.00000000e+000,\n",
              "       1.00237924e-277, 0.00000000e+000, 0.00000000e+000, 0.00000000e+000,\n",
              "       1.95419659e-300, 0.00000000e+000, 0.00000000e+000, 0.00000000e+000,\n",
              "       5.16437174e-232, 1.05332807e-301, 1.91482213e-290, 0.00000000e+000,\n",
              "       0.00000000e+000, 1.42644523e-263, 0.00000000e+000, 0.00000000e+000,\n",
              "       0.00000000e+000, 0.00000000e+000, 0.00000000e+000, 0.00000000e+000,\n",
              "       0.00000000e+000, 2.90734791e-209, 0.00000000e+000, 0.00000000e+000,\n",
              "       1.98761784e-291, 0.00000000e+000, 2.16264001e-280, 0.00000000e+000,\n",
              "       0.00000000e+000, 0.00000000e+000, 0.00000000e+000, 0.00000000e+000,\n",
              "       2.69058321e-267, 2.96871117e-281, 0.00000000e+000, 0.00000000e+000,\n",
              "       2.15464267e-307, 2.41226856e-282, 4.71804789e-196, 0.00000000e+000,\n",
              "       0.00000000e+000, 1.32266569e-119, 2.06347936e-272, 8.82988699e-235,\n",
              "       0.00000000e+000, 1.65915629e-179, 0.00000000e+000, 0.00000000e+000,\n",
              "       0.00000000e+000, 0.00000000e+000, 0.00000000e+000, 0.00000000e+000,\n",
              "       0.00000000e+000, 0.00000000e+000, 0.00000000e+000, 0.00000000e+000,\n",
              "       0.00000000e+000, 3.74378916e-285, 1.92401985e-157, 0.00000000e+000,\n",
              "       0.00000000e+000, 0.00000000e+000, 0.00000000e+000, 0.00000000e+000,\n",
              "       0.00000000e+000, 6.45814902e-272, 0.00000000e+000, 0.00000000e+000,\n",
              "       1.78846496e-308, 0.00000000e+000, 1.06938206e-277, 0.00000000e+000,\n",
              "       0.00000000e+000, 0.00000000e+000, 1.14761928e-255, 2.08232533e-291,\n",
              "       0.00000000e+000, 0.00000000e+000, 0.00000000e+000, 0.00000000e+000,\n",
              "       4.25516626e-229, 5.07366956e-290, 0.00000000e+000, 1.01641982e-211,\n",
              "       0.00000000e+000, 0.00000000e+000, 0.00000000e+000, 3.72368169e-159,\n",
              "       0.00000000e+000, 0.00000000e+000, 0.00000000e+000, 0.00000000e+000,\n",
              "       0.00000000e+000, 9.20628020e-168, 1.25897203e-265, 0.00000000e+000,\n",
              "       0.00000000e+000, 0.00000000e+000, 0.00000000e+000, 0.00000000e+000,\n",
              "       0.00000000e+000, 0.00000000e+000, 1.00181351e-288, 0.00000000e+000,\n",
              "       1.55548350e-218, 0.00000000e+000, 5.84254381e-211, 0.00000000e+000,\n",
              "       0.00000000e+000, 0.00000000e+000, 0.00000000e+000, 0.00000000e+000,\n",
              "       0.00000000e+000, 0.00000000e+000, 0.00000000e+000, 0.00000000e+000,\n",
              "       0.00000000e+000, 0.00000000e+000, 0.00000000e+000, 0.00000000e+000,\n",
              "       0.00000000e+000, 0.00000000e+000, 0.00000000e+000, 1.40464503e-263,\n",
              "       0.00000000e+000, 0.00000000e+000, 0.00000000e+000, 0.00000000e+000,\n",
              "       0.00000000e+000, 0.00000000e+000, 1.08897767e-148, 1.61136723e-210,\n",
              "       0.00000000e+000, 0.00000000e+000, 0.00000000e+000, 1.20573577e-182,\n",
              "       0.00000000e+000, 0.00000000e+000, 0.00000000e+000, 1.29781853e-243,\n",
              "       0.00000000e+000, 0.00000000e+000, 7.98525511e-240, 9.36584416e-266,\n",
              "       0.00000000e+000, 0.00000000e+000, 0.00000000e+000, 0.00000000e+000,\n",
              "       0.00000000e+000, 0.00000000e+000, 0.00000000e+000, 0.00000000e+000,\n",
              "       4.80320231e-144, 0.00000000e+000, 0.00000000e+000, 0.00000000e+000,\n",
              "       0.00000000e+000, 0.00000000e+000, 0.00000000e+000, 0.00000000e+000,\n",
              "       0.00000000e+000, 1.81633599e-262, 4.91437220e-256, 0.00000000e+000,\n",
              "       0.00000000e+000, 0.00000000e+000, 0.00000000e+000, 0.00000000e+000,\n",
              "       0.00000000e+000, 0.00000000e+000, 2.25194632e-211, 1.53017033e-293,\n",
              "       1.71663389e-292, 0.00000000e+000, 3.56975535e-237, 0.00000000e+000,\n",
              "       0.00000000e+000, 0.00000000e+000, 0.00000000e+000, 0.00000000e+000,\n",
              "       0.00000000e+000, 1.83204330e-285, 0.00000000e+000, 2.16752476e-167,\n",
              "       5.91081073e-290, 0.00000000e+000, 0.00000000e+000, 2.15945532e-222,\n",
              "       0.00000000e+000, 0.00000000e+000, 0.00000000e+000, 0.00000000e+000,\n",
              "       0.00000000e+000, 0.00000000e+000, 0.00000000e+000, 0.00000000e+000,\n",
              "       2.64061696e-260, 0.00000000e+000, 0.00000000e+000, 4.14931208e-280,\n",
              "       2.07208549e-268, 1.71279032e-308, 4.31865969e-270, 0.00000000e+000,\n",
              "       1.91622515e-284, 7.24570980e-232, 0.00000000e+000, 2.10018180e-302,\n",
              "       0.00000000e+000, 5.63102215e-226, 0.00000000e+000, 0.00000000e+000,\n",
              "       2.36792722e-289, 0.00000000e+000, 0.00000000e+000, 0.00000000e+000,\n",
              "       0.00000000e+000, 1.58232484e-286, 0.00000000e+000, 0.00000000e+000,\n",
              "       1.41183752e-225, 0.00000000e+000, 0.00000000e+000, 2.38937783e-217,\n",
              "       3.49816561e-282, 0.00000000e+000, 0.00000000e+000, 0.00000000e+000,\n",
              "       1.24045961e-291, 0.00000000e+000, 0.00000000e+000, 0.00000000e+000,\n",
              "       0.00000000e+000, 0.00000000e+000, 0.00000000e+000, 1.13875887e-184,\n",
              "       0.00000000e+000, 0.00000000e+000, 0.00000000e+000, 0.00000000e+000,\n",
              "       2.76650621e-203, 0.00000000e+000, 0.00000000e+000, 0.00000000e+000,\n",
              "       1.92271441e-237, 0.00000000e+000, 0.00000000e+000, 0.00000000e+000,\n",
              "       0.00000000e+000, 5.68159288e-249, 1.19799835e-194, 4.01414532e-256,\n",
              "       2.02236831e-193, 0.00000000e+000, 0.00000000e+000, 0.00000000e+000,\n",
              "       4.65565315e-278, 0.00000000e+000, 0.00000000e+000, 0.00000000e+000,\n",
              "       0.00000000e+000, 1.82451391e-228, 3.06491617e-176, 0.00000000e+000,\n",
              "       1.14819350e-209, 1.55755971e-188, 1.82543032e-271, 4.47654029e-201,\n",
              "       2.21241872e-281, 1.50787894e-261, 1.22121230e-229, 0.00000000e+000,\n",
              "       0.00000000e+000, 0.00000000e+000, 0.00000000e+000, 4.37891442e-286,\n",
              "       0.00000000e+000, 0.00000000e+000, 1.28991946e-212, 4.01650270e-178,\n",
              "       0.00000000e+000, 0.00000000e+000, 0.00000000e+000, 3.54704618e-218,\n",
              "       0.00000000e+000, 0.00000000e+000, 0.00000000e+000, 7.77330681e-173,\n",
              "       0.00000000e+000, 3.69687002e-216, 3.29353085e-304, 0.00000000e+000,\n",
              "       0.00000000e+000, 0.00000000e+000, 0.00000000e+000, 0.00000000e+000,\n",
              "       0.00000000e+000, 4.64505161e-258, 6.30366330e-221, 0.00000000e+000,\n",
              "       0.00000000e+000, 0.00000000e+000, 0.00000000e+000, 2.05641357e-225,\n",
              "       1.49259741e-296, 7.59801196e-208, 0.00000000e+000, 0.00000000e+000,\n",
              "       4.42256783e-207, 0.00000000e+000, 0.00000000e+000, 0.00000000e+000,\n",
              "       2.95097541e-195, 0.00000000e+000, 3.23020800e-171, 0.00000000e+000,\n",
              "       1.19532897e-274, 2.00661347e-198, 0.00000000e+000, 4.12787973e-243,\n",
              "       7.32461171e-297, 0.00000000e+000, 0.00000000e+000, 0.00000000e+000,\n",
              "       0.00000000e+000, 0.00000000e+000, 8.40611814e-260, 2.42753906e-212,\n",
              "       0.00000000e+000, 0.00000000e+000, 0.00000000e+000, 2.23367585e-294,\n",
              "       1.22864963e-264, 0.00000000e+000, 0.00000000e+000, 0.00000000e+000,\n",
              "       0.00000000e+000, 0.00000000e+000, 0.00000000e+000, 0.00000000e+000,\n",
              "       0.00000000e+000, 0.00000000e+000, 0.00000000e+000, 5.09837175e-287,\n",
              "       2.18159221e-301, 0.00000000e+000, 0.00000000e+000, 0.00000000e+000,\n",
              "       0.00000000e+000, 0.00000000e+000, 6.54264468e-278, 0.00000000e+000,\n",
              "       0.00000000e+000, 1.42720726e-271, 9.87881776e-161, 4.33189914e-300,\n",
              "       6.64034158e-200, 0.00000000e+000, 0.00000000e+000, 0.00000000e+000,\n",
              "       3.23682990e-281, 0.00000000e+000, 0.00000000e+000, 1.52143661e-265,\n",
              "       0.00000000e+000, 0.00000000e+000, 0.00000000e+000, 0.00000000e+000,\n",
              "       1.28506226e-241, 0.00000000e+000, 3.61919046e-257, 2.39296647e-289,\n",
              "       5.33914618e-249, 0.00000000e+000, 0.00000000e+000, 0.00000000e+000,\n",
              "       0.00000000e+000, 1.95076563e-265, 0.00000000e+000, 0.00000000e+000,\n",
              "       0.00000000e+000, 0.00000000e+000, 4.12176943e-299, 0.00000000e+000,\n",
              "       0.00000000e+000, 0.00000000e+000, 0.00000000e+000, 0.00000000e+000,\n",
              "       0.00000000e+000, 5.96409776e-282, 0.00000000e+000, 0.00000000e+000,\n",
              "       0.00000000e+000, 0.00000000e+000, 1.18199774e-273, 0.00000000e+000,\n",
              "       0.00000000e+000, 0.00000000e+000, 9.35009616e-171, 2.66398295e-295,\n",
              "       0.00000000e+000, 0.00000000e+000, 0.00000000e+000, 2.65405259e-307,\n",
              "       0.00000000e+000, 3.79743805e-283, 6.22745294e-258, 6.66350640e-305,\n",
              "       0.00000000e+000, 0.00000000e+000, 0.00000000e+000, 0.00000000e+000,\n",
              "       7.00755608e-281, 0.00000000e+000, 0.00000000e+000, 3.63573642e-274,\n",
              "       0.00000000e+000, 0.00000000e+000, 0.00000000e+000, 0.00000000e+000,\n",
              "       0.00000000e+000, 5.11005613e-271, 0.00000000e+000, 2.24670515e-283,\n",
              "       2.41636326e-232, 0.00000000e+000, 0.00000000e+000, 2.64304091e-252,\n",
              "       0.00000000e+000, 0.00000000e+000, 0.00000000e+000])"
            ]
          },
          "metadata": {},
          "execution_count": 101
        }
      ]
    },
    {
      "cell_type": "code",
      "source": [
        "y_hat.shape"
      ],
      "metadata": {
        "id": "SNJImJR3Ez-l",
        "outputId": "59be5564-18f3-4d28-b1da-15aee6a425f7",
        "colab": {
          "base_uri": "https://localhost:8080/"
        }
      },
      "execution_count": 102,
      "outputs": [
        {
          "output_type": "execute_result",
          "data": {
            "text/plain": [
              "(455,)"
            ]
          },
          "metadata": {},
          "execution_count": 102
        }
      ]
    },
    {
      "cell_type": "markdown",
      "metadata": {
        "id": "I1L7RqCHOShJ"
      },
      "source": [
        "### Крок 3: Обчислити усереднену втрату на всьому навчальному наборі даних. Цільова функція\n",
        "\n",
        "У нашому випадку ми розглядаємо пряме та зворотне поширення для одного навчального прикладу (зображення)."
      ]
    },
    {
      "cell_type": "code",
      "metadata": {
        "id": "YM5DZaGIl-ei"
      },
      "source": [
        "# TODO\n",
        "def cost(n, y_hat, y_true):\n",
        "  \"\"\"\n",
        "  Ця функція обчислює усереднену втрату для задачі бінарної класифікації на всьому навчальному наборі даних\n",
        "\n",
        "  Параметри:\n",
        "  n -- загальна кількість навчальних прикладів (у нашому випадку - це  одне чорнобіле зображення собаки)\n",
        "  y_hat -- активаційне значення сигмоїди (прогноз логістичної регресії)\n",
        "  y_true -- істинний клас зображення (очікувана мітка прогнозу)\n",
        "\n",
        "  Повертає:\n",
        "  J --  усереднена втрата моделі для задачі бінарної класифікації на всьому навчальному наборі даних\n",
        "  \"\"\"\n",
        "\n",
        "  # BEGIN_YOUR_CODE\n",
        "  J = (- 1 / n) * np.sum(y_true * np.log(y_hat) + (1 - y_true) * (np.log(1 - y_hat)))\n",
        "  return J\n",
        "  raise Exception(\"Not implemented yet\")\n",
        "  # END_YOUR_CODE"
      ],
      "execution_count": null,
      "outputs": []
    },
    {
      "cell_type": "code",
      "metadata": {
        "id": "GVuroIbum_4L",
        "colab": {
          "base_uri": "https://localhost:8080/"
        },
        "outputId": "745f1492-2685-488d-9fc3-faa6025d2e2f"
      },
      "source": [
        "J = cost(n_samples, y_hat, y_train)\n",
        "J"
      ],
      "execution_count": 97,
      "outputs": [
        {
          "output_type": "stream",
          "name": "stderr",
          "text": [
            "<ipython-input-51-5abec5765d07>:16: RuntimeWarning: divide by zero encountered in log\n",
            "  J = (- 1 / n) * np.sum(y_true * np.log(y_hat) + (1 - y_true) * (np.log(1 - y_hat)))\n",
            "<ipython-input-51-5abec5765d07>:16: RuntimeWarning: invalid value encountered in multiply\n",
            "  J = (- 1 / n) * np.sum(y_true * np.log(y_hat) + (1 - y_true) * (np.log(1 - y_hat)))\n"
          ]
        },
        {
          "output_type": "execute_result",
          "data": {
            "text/plain": [
              "nan"
            ]
          },
          "metadata": {},
          "execution_count": 97
        }
      ]
    },
    {
      "cell_type": "markdown",
      "metadata": {
        "id": "bapG8TtdP4gK"
      },
      "source": [
        "### Крок 4: Розрахувати градієнти цільвої функції відносно ваг та зсуву"
      ]
    },
    {
      "cell_type": "code",
      "metadata": {
        "id": "9K-Vn0mpiGng"
      },
      "source": [
        "# TODO\n",
        "def backwardPropagate(n, X, y_hat, y_true):\n",
        "  \"\"\"\n",
        "  Ця функція обчислює градієнти цільвої функції відносно ваг та зсуву\n",
        "\n",
        "  Параметри:\n",
        "  n -- загальна кількість навчальних прикладів (у нашому випадку - це  одне чорнобіле зображення собаки)\n",
        "  X -- вхідний вектор стовпець (у нашому випадку - це чорнобіле зображення собаки) форми (n_features, 1)\n",
        "  y_hat -- активаційне значення сигмоїди (прогноз логістичної регресії)\n",
        "  y_true -- істинний клас зображення (очікувана мітка прогнозу)\n",
        "\n",
        "  Повертає:\n",
        "  dW --  градієнт цільової функції відносно ваг моделі\n",
        "  db -- градієнт цільової функції відносно зсуву моделі\n",
        "  \"\"\"\n",
        "\n",
        "  # BEGIN_YOUR_CODE\n",
        "  raise Exception(\"Not implemented yet\")\n",
        "  # END_YOUR_CODE"
      ],
      "execution_count": null,
      "outputs": []
    },
    {
      "cell_type": "code",
      "metadata": {
        "id": "VirkpmD0o-1Q"
      },
      "source": [
        "dW, db = backwardPropagate(1, X_train, y_hat, y_train)"
      ],
      "execution_count": null,
      "outputs": []
    },
    {
      "cell_type": "code",
      "metadata": {
        "id": "aLjgo0GdpMx0"
      },
      "source": [
        "dW.shape"
      ],
      "execution_count": null,
      "outputs": []
    },
    {
      "cell_type": "code",
      "metadata": {
        "id": "8ZBTCeXdqFJA"
      },
      "source": [
        "db"
      ],
      "execution_count": null,
      "outputs": []
    },
    {
      "cell_type": "code",
      "metadata": {
        "id": "DAkVSaLesD_8"
      },
      "source": [
        "db.shape"
      ],
      "execution_count": null,
      "outputs": []
    },
    {
      "cell_type": "markdown",
      "metadata": {
        "id": "7wzrFBQPSfL5"
      },
      "source": [
        "### Крок 5: Оновити ваги та зсув"
      ]
    },
    {
      "cell_type": "code",
      "metadata": {
        "id": "SwacLBbFsKHZ"
      },
      "source": [
        "# TODO\n",
        "def update(alpha, dW, db, W, b):\n",
        "  \"\"\"\n",
        "  Ця функція оновлює навчальні параметри моделі (ваги та зсув ) у напрямку мінімізації цільової функції\n",
        "\n",
        "  Параметри:\n",
        "  alpha -- швидкість  навчання (крок навчання)\n",
        "  dW --  градієнт цільової функції відносно ваг моделі\n",
        "  db -- градієнт цільової функції відносно зсуву моделі\n",
        "  W -- вектор-рядок ваг моделі форми (1, n_features)\n",
        "  b -- зсув моделі (скаляр)\n",
        "\n",
        "  Повертає:\n",
        "  W -- оновлений вектор-рядок ваг моделі форми (1, n_features)\n",
        "  b -- оновлений зсув моделі (скаляр)\n",
        "  \"\"\"\n",
        "\n",
        "\n",
        "  # BEGIN_YOUR_CODE\n",
        "  raise Exception(\"Not implemented yet\")\n",
        "  # END_YOUR_CODE"
      ],
      "execution_count": null,
      "outputs": []
    },
    {
      "cell_type": "code",
      "metadata": {
        "id": "7f-dOng9tKRy"
      },
      "source": [
        "W, b = update(0.0001, dW, db, W, b)"
      ],
      "execution_count": null,
      "outputs": []
    },
    {
      "cell_type": "code",
      "metadata": {
        "id": "X681Y8JatVAi"
      },
      "source": [
        "W"
      ],
      "execution_count": null,
      "outputs": []
    },
    {
      "cell_type": "code",
      "metadata": {
        "id": "oWrWtkXhtWl4"
      },
      "source": [
        "b"
      ],
      "execution_count": null,
      "outputs": []
    },
    {
      "cell_type": "code",
      "source": [
        "class LogisticRegression:\n",
        "\n",
        "  def __init__(self):\n",
        "      pass\n",
        "  def train_model(self, X, y, alpha=0.01, n_iters=100):\n",
        "    \"\"\"\n",
        "    Trains a logistic regression model using gradient descent\n",
        "    \"\"\"\n",
        "    # Step 0: Initialize the parameters\n",
        "    n_features, n_samples = X.shape\n",
        "    self.W, self.b = parameters_inititalization(n_features)\n",
        "    costs = []\n",
        "    for i in range(n_iters):\n",
        "      # Step 1: Compute a linear combination of the input features and weights\n",
        "      z, y_hat = forwardPropagate(X_train, self.W, self.b)\n",
        "      # Step 2: Compute cost over training set\n",
        "      J = cost(n_samples, y_hat, y_train)\n",
        "      costs.append(J)\n",
        "      if i % 20 == 0:\n",
        "        print(f\"Усереднена втрата моделі на ітерації {i}: {J}\")\n",
        "      # Step 3: Compute the gradients\n",
        "      dW, db = backwardPropagate(n_samples, X_train, y_hat, y_train)\n",
        "      # Step 4: Update the parameters\n",
        "      self.W, self.b = update(alpha, dW, db, self.W, self.b)\n",
        "    return self.W, self.b, costs"
      ],
      "metadata": {
        "id": "xE_WsGnUGQTQ"
      },
      "execution_count": null,
      "outputs": []
    }
  ]
}